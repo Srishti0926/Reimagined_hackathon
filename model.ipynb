{
 "cells": [
  {
   "cell_type": "code",
   "execution_count": 0,
   "metadata": {
    "application/vnd.databricks.v1+cell": {
     "cellMetadata": {
      "byteLimit": 2048000,
      "rowLimit": 10000
     },
     "inputWidgets": {},
     "nuid": "70090014-45f6-45d3-976b-f5b69b2474df",
     "showTitle": false,
     "tableResultSettingsMap": {},
     "title": ""
    }
   },
   "outputs": [
    {
     "output_type": "stream",
     "name": "stdout",
     "output_type": "stream",
     "text": [
      "Collecting mlxtend\n  Obtaining dependency information for mlxtend from https://files.pythonhosted.org/packages/4c/43/2fc7f76c8891aef148901f1ba3dee65c1cbac00a85ae5ee0dabc2b861256/mlxtend-0.23.4-py3-none-any.whl.metadata\n  Using cached mlxtend-0.23.4-py3-none-any.whl.metadata (7.3 kB)\nRequirement already satisfied: scipy>=1.2.1 in /databricks/python3/lib/python3.11/site-packages (from mlxtend) (1.11.1)\nRequirement already satisfied: numpy>=1.16.2 in /databricks/python3/lib/python3.11/site-packages (from mlxtend) (1.23.5)\nRequirement already satisfied: pandas>=0.24.2 in /databricks/python3/lib/python3.11/site-packages (from mlxtend) (1.5.3)\nCollecting scikit-learn>=1.3.1 (from mlxtend)\n  Obtaining dependency information for scikit-learn>=1.3.1 from https://files.pythonhosted.org/packages/a8/f3/62fc9a5a659bb58a03cdd7e258956a5824bdc9b4bb3c5d932f55880be569/scikit_learn-1.6.1-cp311-cp311-manylinux_2_17_x86_64.manylinux2014_x86_64.whl.metadata\n  Using cached scikit_learn-1.6.1-cp311-cp311-manylinux_2_17_x86_64.manylinux2014_x86_64.whl.metadata (18 kB)\nRequirement already satisfied: matplotlib>=3.0.0 in /databricks/python3/lib/python3.11/site-packages (from mlxtend) (3.7.2)\nRequirement already satisfied: joblib>=0.13.2 in /databricks/python3/lib/python3.11/site-packages (from mlxtend) (1.2.0)\nRequirement already satisfied: contourpy>=1.0.1 in /databricks/python3/lib/python3.11/site-packages (from matplotlib>=3.0.0->mlxtend) (1.0.5)\nRequirement already satisfied: cycler>=0.10 in /databricks/python3/lib/python3.11/site-packages (from matplotlib>=3.0.0->mlxtend) (0.11.0)\nRequirement already satisfied: fonttools>=4.22.0 in /databricks/python3/lib/python3.11/site-packages (from matplotlib>=3.0.0->mlxtend) (4.25.0)\nRequirement already satisfied: kiwisolver>=1.0.1 in /databricks/python3/lib/python3.11/site-packages (from matplotlib>=3.0.0->mlxtend) (1.4.4)\nRequirement already satisfied: packaging>=20.0 in /databricks/python3/lib/python3.11/site-packages (from matplotlib>=3.0.0->mlxtend) (23.2)\nRequirement already satisfied: pillow>=6.2.0 in /databricks/python3/lib/python3.11/site-packages (from matplotlib>=3.0.0->mlxtend) (9.4.0)\nRequirement already satisfied: pyparsing<3.1,>=2.3.1 in /databricks/python3/lib/python3.11/site-packages (from matplotlib>=3.0.0->mlxtend) (3.0.9)\nRequirement already satisfied: python-dateutil>=2.7 in /databricks/python3/lib/python3.11/site-packages (from matplotlib>=3.0.0->mlxtend) (2.8.2)\nRequirement already satisfied: pytz>=2020.1 in /databricks/python3/lib/python3.11/site-packages (from pandas>=0.24.2->mlxtend) (2022.7)\nCollecting threadpoolctl>=3.1.0 (from scikit-learn>=1.3.1->mlxtend)\n  Obtaining dependency information for threadpoolctl>=3.1.0 from https://files.pythonhosted.org/packages/32/d5/f9a850d79b0851d1d4ef6456097579a9005b31fea68726a4ae5f2d82ddd9/threadpoolctl-3.6.0-py3-none-any.whl.metadata\n  Using cached threadpoolctl-3.6.0-py3-none-any.whl.metadata (13 kB)\nRequirement already satisfied: six>=1.5 in /usr/lib/python3/dist-packages (from python-dateutil>=2.7->matplotlib>=3.0.0->mlxtend) (1.16.0)\nUsing cached mlxtend-0.23.4-py3-none-any.whl (1.4 MB)\nUsing cached scikit_learn-1.6.1-cp311-cp311-manylinux_2_17_x86_64.manylinux2014_x86_64.whl (13.5 MB)\nUsing cached threadpoolctl-3.6.0-py3-none-any.whl (18 kB)\nInstalling collected packages: threadpoolctl, scikit-learn, mlxtend\n  Attempting uninstall: threadpoolctl\n    Found existing installation: threadpoolctl 2.2.0\n    Not uninstalling threadpoolctl at /databricks/python3/lib/python3.11/site-packages, outside environment /local_disk0/.ephemeral_nfs/envs/pythonEnv-3b129a3a-8401-4862-9249-5ee655737e3c\n    Can't uninstall 'threadpoolctl'. No files were found to uninstall.\n  Attempting uninstall: scikit-learn\n    Found existing installation: scikit-learn 1.3.0\n    Not uninstalling scikit-learn at /databricks/python3/lib/python3.11/site-packages, outside environment /local_disk0/.ephemeral_nfs/envs/pythonEnv-3b129a3a-8401-4862-9249-5ee655737e3c\n    Can't uninstall 'scikit-learn'. No files were found to uninstall.\nSuccessfully installed mlxtend-0.23.4 scikit-learn-1.6.1 threadpoolctl-3.6.0\n\u001B[43mNote: you may need to restart the kernel using %restart_python or dbutils.library.restartPython() to use updated packages.\u001B[0m\nCollecting js2py\n  Obtaining dependency information for js2py from https://files.pythonhosted.org/packages/88/58/2feb430d47c9f18f331494b429697342722b51f28dad8ad92a511c0f6fc8/Js2Py-0.74-py3-none-any.whl.metadata\n  Using cached Js2Py-0.74-py3-none-any.whl.metadata (868 bytes)\nCollecting tzlocal>=1.2 (from js2py)\n  Obtaining dependency information for tzlocal>=1.2 from https://files.pythonhosted.org/packages/c2/14/e2a54fabd4f08cd7af1c07030603c3356b74da07f7cc056e600436edfa17/tzlocal-5.3.1-py3-none-any.whl.metadata\n  Using cached tzlocal-5.3.1-py3-none-any.whl.metadata (7.6 kB)\nRequirement already satisfied: six>=1.10 in /usr/lib/python3/dist-packages (from js2py) (1.16.0)\nCollecting pyjsparser>=2.5.1 (from js2py)\n  Using cached pyjsparser-2.7.1-py3-none-any.whl\nUsing cached Js2Py-0.74-py3-none-any.whl (1.0 MB)\nUsing cached tzlocal-5.3.1-py3-none-any.whl (18 kB)\nInstalling collected packages: pyjsparser, tzlocal, js2py\nSuccessfully installed js2py-0.74 pyjsparser-2.7.1 tzlocal-5.3.1\n\u001B[43mNote: you may need to restart the kernel using %restart_python or dbutils.library.restartPython() to use updated packages.\u001B[0m\n"
     ]
    }
   ],
   "source": [
    "%pip install mlxtend\n",
    "%pip install js2py"
   ]
  },
  {
   "cell_type": "code",
   "execution_count": 0,
   "metadata": {
    "application/vnd.databricks.v1+cell": {
     "cellMetadata": {
      "byteLimit": 2048000,
      "rowLimit": 10000
     },
     "inputWidgets": {},
     "nuid": "a2c089ae-2e17-442d-b377-04ee46b1f1f0",
     "showTitle": false,
     "tableResultSettingsMap": {},
     "title": ""
    }
   },
   "outputs": [],
   "source": [
    "%restart_python"
   ]
  },
  {
   "cell_type": "markdown",
   "metadata": {
    "application/vnd.databricks.v1+cell": {
     "cellMetadata": {},
     "inputWidgets": {},
     "nuid": "b9c6b3a1-b85f-425a-a6ec-a72751f8bfe5",
     "showTitle": false,
     "tableResultSettingsMap": {},
     "title": ""
    }
   },
   "source": [
    "FRAUD PATTERN ANALYSIS"
   ]
  },
  {
   "cell_type": "code",
   "execution_count": 0,
   "metadata": {
    "application/vnd.databricks.v1+cell": {
     "cellMetadata": {
      "byteLimit": 2048000,
      "rowLimit": 10000
     },
     "inputWidgets": {},
     "nuid": "1cc67447-9050-404c-9752-618f3b70a793",
     "showTitle": false,
     "tableResultSettingsMap": {},
     "title": ""
    }
   },
   "outputs": [
    {
     "output_type": "stream",
     "name": "stdout",
     "output_type": "stream",
     "text": [
      "Data Shape: (213, 6)\nData Sample:   amount               merchant_name  ... merchant_category transaction_type\n0   8963                     Cox PLC  ...            Retail  Cash Withdrawal\n1   7485             George-Sullivan  ...            Retail  Cash Withdrawal\n2   3044  Hughes, Whitney and Romero  ...     Entertainment           Refund\n3   1792                 Meadows Inc  ...   Online Services  Cash Withdrawal\n4   2015               Barnett-Flynn  ...            Retail         Transfer\n\n[5 rows x 6 columns]\n    support                                           itemsets\n0  1.000000                          (ip_address=172.156.11.1)\n3  0.361502                (merchant_category=Online Services)\n6  0.361502  (ip_address=172.156.11.1, merchant_category=On...\n1  0.323944                         (merchant_category=Retail)\n4  0.323944  (ip_address=172.156.11.1, merchant_category=Re...\n2  0.314554                  (merchant_category=Entertainment)\n5  0.314554  (ip_address=172.156.11.1, merchant_category=En...\nif (transaction['ip_address'] === '172.156.11.1' && (transaction['merchant_category'] === 'Online Services')) { flagAsFraud(); }\nif (transaction['ip_address'] === '172.156.11.1' && (transaction['merchant_category'] === 'Online Services' || transaction['merchant_category'] === 'Retail')) { flagAsFraud(); }\nif (transaction['ip_address'] === '172.156.11.1' && (transaction['merchant_category'] === 'Online Services' || transaction['merchant_category'] === 'Entertainment' || transaction['merchant_category'] === 'Retail')) { flagAsFraud(); }\n"
     ]
    }
   ],
   "source": [
    "%python\n",
    "import json\n",
    "import pandas as pd\n",
    "from mlxtend.preprocessing import TransactionEncoder\n",
    "from mlxtend.frequent_patterns import fpgrowth\n",
    "import warnings\n",
    "from collections import defaultdict\n",
    "\n",
    "# Suppress DeprecationWarnings\n",
    "warnings.filterwarnings(\"ignore\", category=DeprecationWarning)\n",
    "\n",
    "# Flatten the dictionary recursively\n",
    "def flatten(d, parent_key='', sep='.'):\n",
    "    items = []\n",
    "    for k, v in d.items():\n",
    "        new_key = f\"{parent_key}{sep}{k}\" if parent_key else k\n",
    "        if isinstance(v, dict):\n",
    "            items.extend(flatten(v, new_key, sep=sep).items())\n",
    "        elif isinstance(v, list):\n",
    "            for idx, item in enumerate(v):\n",
    "                items.extend(flatten(item, f\"{new_key}_{idx}\", sep=sep).items())\n",
    "        else:\n",
    "            items.append((new_key, str(v)))\n",
    "    return dict(items)\n",
    "\n",
    "# Load fraud JSON file\n",
    "with open(\"/dbfs/FileStore/tables/proactive/cf_transaction_200.json\", \"r\") as f:\n",
    "    data = json.load(f)\n",
    "\n",
    "# Extract relevant attributes (amount, merchant_name, location, ip_address) and flatten\n",
    "flat_data = []\n",
    "for txn in data:\n",
    "    txn_flat = flatten(txn)\n",
    "    relevant_fields_data = {key: txn_flat[key] for key in ['amount', 'merchant_name', 'location', 'ip_address', 'merchant_category', 'transaction_type'] if key in txn_flat}\n",
    "    flat_data.append(relevant_fields_data)\n",
    "\n",
    "# Convert the filtered data into a DataFrame and fill NaN values with \"null\"\n",
    "df = pd.DataFrame(flat_data).fillna(\"null\")\n",
    "print(f\"Data Shape: {df.shape}\")\n",
    "print(f\"Data Sample: {df.head()}\")\n",
    "\n",
    "# Convert each row to a transaction of feature=value\n",
    "transactions = []\n",
    "for _, row in df.iterrows():\n",
    "    txn = [f\"{col}={val}\" for col, val in row.items()]\n",
    "    transactions.append(txn)\n",
    "\n",
    "# Apply Transaction Encoder\n",
    "te = TransactionEncoder()\n",
    "te_ary = te.fit(transactions).transform(transactions)\n",
    "df_tf = pd.DataFrame(te_ary, columns=te.columns_)\n",
    "\n",
    "# Run FP-Growth with a higher support to find meaningful patterns\n",
    "frequent_itemsets = fpgrowth(df_tf, min_support=0.3, use_colnames=True)\n",
    "frequent_itemsets = frequent_itemsets.sort_values(by='support', ascending=False)\n",
    "\n",
    "# Display top 10 frequent itemsets\n",
    "print(frequent_itemsets.head(10))\n",
    "\n",
    "def generate_smart_js_rules(frequent_itemsets, min_len=2, max_rules=20):\n",
    "    js_rules = []\n",
    "    merchant_categories = set()\n",
    "\n",
    "    for _, row in frequent_itemsets.iterrows():\n",
    "        itemsets = row[\"itemsets\"]\n",
    "        if len(itemsets) < min_len:\n",
    "            continue\n",
    "\n",
    "        # Group by feature\n",
    "        feature_groups = defaultdict(list)\n",
    "        for item in itemsets:\n",
    "            key, val = item.split('=')\n",
    "            feature_groups[key].append(val)\n",
    "\n",
    "        conditions = []\n",
    "        for key, values in feature_groups.items():\n",
    "            if key == 'merchant_category':\n",
    "                merchant_categories.update(values)\n",
    "            elif len(values) == 1:\n",
    "                conditions.append(f\"transaction['{key}'] === '{values[0]}'\")\n",
    "            else:\n",
    "                value_conditions = [f\"transaction['{key}'] === '{val}'\" for val in values]\n",
    "                conditions.append(\"(\" + \" || \".join(value_conditions) + \")\")\n",
    "\n",
    "        if merchant_categories:\n",
    "            merchant_condition = \" || \".join([f\"transaction['merchant_category'] === '{category}'\" for category in merchant_categories])\n",
    "            conditions.append(f\"({merchant_condition})\")\n",
    "\n",
    "        rule = \"if (\" + \" && \".join(conditions) + \") { flagAsFraud(); }\"\n",
    "        js_rules.append(rule)\n",
    "\n",
    "        if len(js_rules) >= max_rules:\n",
    "            break\n",
    "\n",
    "    return js_rules\n",
    "\n",
    "# Convert frequent patterns into JS rules\n",
    "js_rules = generate_smart_js_rules(frequent_itemsets, min_len=2, max_rules=20)\n",
    "for rule in js_rules:\n",
    "    print(rule)"
   ]
  },
  {
   "cell_type": "code",
   "execution_count": 0,
   "metadata": {
    "application/vnd.databricks.v1+cell": {
     "cellMetadata": {
      "byteLimit": 2048000,
      "rowLimit": 10000
     },
     "inputWidgets": {},
     "nuid": "0b9a3eb2-9db2-42f4-a76f-dbdd09d85b00",
     "showTitle": false,
     "tableResultSettingsMap": {},
     "title": ""
    }
   },
   "outputs": [
    {
     "output_type": "stream",
     "name": "stdout",
     "output_type": "stream",
     "text": [
      "//auto generated fraud rules\nif (transaction['ip_address'] === '172.156.11.1' && (transaction['merchant_category'] === 'Online Services')) { flagAsFraud(); }\nif (transaction['ip_address'] === '172.156.11.1' && (transaction['merchant_category'] === 'Online Services' || transaction['merchant_category'] === 'Retail')) { flagAsFraud(); }\nif (transaction['ip_address'] === '172.156.11.1' && (transaction['merchant_category'] === 'Online Services' || transaction['merchant_category'] === 'Entertainment' || transaction['merchant_category'] === 'Retail')) { flagAsFraud(); }\n\n"
     ]
    }
   ],
   "source": [
    "js_file_path = \"/dbfs/FileStore/tables/generated_fraud_rule.js\"\n",
    "\n",
    "with open(js_file_path, \"w\") as f:\n",
    "    f.write(\"//auto generated fraud rules\\n\")\n",
    "    for rule in js_rules:\n",
    "        f.write(rule + \"\\n\")\n",
    "\n",
    "\n",
    "with open(js_file_path, \"r\",encoding=\"utf-8\") as f:\n",
    "    js_content = f.read()\n",
    "\n",
    "print(js_content)\n",
    "\n",
    "# DBTITLE 1"
   ]
  },
  {
   "cell_type": "code",
   "execution_count": 0,
   "metadata": {
    "application/vnd.databricks.v1+cell": {
     "cellMetadata": {
      "byteLimit": 2048000,
      "rowLimit": 10000
     },
     "inputWidgets": {},
     "nuid": "f512ad7f-c623-4552-ba7a-4458032e62b9",
     "showTitle": false,
     "tableResultSettingsMap": {},
     "title": ""
    }
   },
   "outputs": [
    {
     "output_type": "stream",
     "name": "stdout",
     "output_type": "stream",
     "text": [
      "Requirement already satisfied: js2py in /local_disk0/.ephemeral_nfs/envs/pythonEnv-3b129a3a-8401-4862-9249-5ee655737e3c/lib/python3.11/site-packages (0.74)\nRequirement already satisfied: tzlocal>=1.2 in /local_disk0/.ephemeral_nfs/envs/pythonEnv-3b129a3a-8401-4862-9249-5ee655737e3c/lib/python3.11/site-packages (from js2py) (5.3.1)\nRequirement already satisfied: six>=1.10 in /usr/lib/python3/dist-packages (from js2py) (1.16.0)\nRequirement already satisfied: pyjsparser>=2.5.1 in /local_disk0/.ephemeral_nfs/envs/pythonEnv-3b129a3a-8401-4862-9249-5ee655737e3c/lib/python3.11/site-packages (from js2py) (2.7.1)\n\u001B[43mNote: you may need to restart the kernel using %restart_python or dbutils.library.restartPython() to use updated packages.\u001B[0m\n"
     ]
    }
   ],
   "source": [
    "%pip install js2py"
   ]
  },
  {
   "cell_type": "markdown",
   "metadata": {
    "application/vnd.databricks.v1+cell": {
     "cellMetadata": {},
     "inputWidgets": {},
     "nuid": "25afe0c4-ea83-42f9-b021-a848c39fdd42",
     "showTitle": false,
     "tableResultSettingsMap": {},
     "title": ""
    }
   },
   "source": [
    "EXECUTE RULES ON TRANSACTIONS"
   ]
  },
  {
   "cell_type": "code",
   "execution_count": 0,
   "metadata": {
    "application/vnd.databricks.v1+cell": {
     "cellMetadata": {
      "byteLimit": 2048000,
      "rowLimit": 10000
     },
     "inputWidgets": {},
     "nuid": "a039d15f-c04c-4248-a7fc-e8a6dac9eea5",
     "showTitle": false,
     "tableResultSettingsMap": {},
     "title": ""
    }
   },
   "outputs": [],
   "source": [
    "import js2py\n",
    "import json\n",
    "\n",
    "\n",
    "def wrap_js_rule(rule):\n",
    "    return f\"\"\"\n",
    "    function wrapRule(transaction, flagAsFraud) {{ {rule} }}\n",
    "    \"\"\"\n",
    "\n",
    "def execute_js_rules(transaction1, js_rules):\n",
    "    results = []\n",
    "\n",
    "    for rule in js_rules:\n",
    "        is_fraud = False\n",
    "        def flagAsFraud():\n",
    "            nonlocal is_fraud\n",
    "            is_fraud = True\n",
    "\n",
    "        try:\n",
    "            rule1 = wrap_js_rule(rule)\n",
    "            js_func = js2py.eval_js(rule1)\n",
    "            js_func(transaction1, flagAsFraud)\n",
    "        except Exception as e:\n",
    "            print(f\"Error executing rule:\\n{rule}\\nReason: {e}\")\n",
    "            continue\n",
    "\n",
    "        if is_fraud:\n",
    "            results.append(rule)\n",
    "\n",
    "       \n",
    "\n",
    "    return results, is_fraud\n"
   ]
  },
  {
   "cell_type": "code",
   "execution_count": 0,
   "metadata": {
    "application/vnd.databricks.v1+cell": {
     "cellMetadata": {
      "byteLimit": 2048000,
      "rowLimit": 10000
     },
     "inputWidgets": {},
     "nuid": "88be35dd-f1b3-475b-a659-cf3d74f1feee",
     "showTitle": false,
     "tableResultSettingsMap": {},
     "title": ""
    }
   },
   "outputs": [],
   "source": [
    "import json\n",
    "import os\n",
    "\n",
    "def append_to_rule_log(transaction_json, rules_fired, is_fraud, log_path=\"/dbfs/FileStore/tables/proactive/3log.jsonl\"):\n",
    "    log_entry = {\n",
    "        \"transaction_Date\": transaction_json.get(\"transaction_date\", \"000000\"),\n",
    "        \"transaction_id\": transaction_json.get(\"transaction_id\", \"N/A\"),\n",
    "        \"transactionAmount\": transaction_json.get(\"amount\", \"N/A\"),\n",
    "        \"is_fraud\": is_fraud,\n",
    "        \"rules_fired\": rules_fired\n",
    "    }\n",
    "\n",
    "    # Read existing log entries\n",
    "    logs = []\n",
    "    if os.path.exists(log_path):\n",
    "        with open(log_path, \"r\") as f:\n",
    "            logs = [json.loads(line) for line in f if line.strip()]\n",
    "\n",
    "    # Append the new log entry\n",
    "    logs.append(log_entry)\n",
    "    \n",
    "    # Overwrite the file with all entries (including the new one)\n",
    "    with open(log_path, \"w\") as f:\n",
    "        for entry in logs:\n",
    "            f.write(json.dumps(entry) + \"\\n\")\n",
    "\n",
    "    print(f\"✅ Logged transaction {log_entry['transaction_id']} with {len(rules_fired)} rule(s) fired.\")\n",
    "    print(log_entry)"
   ]
  },
  {
   "cell_type": "code",
   "execution_count": 0,
   "metadata": {
    "application/vnd.databricks.v1+cell": {
     "cellMetadata": {
      "byteLimit": 2048000,
      "rowLimit": 10000
     },
     "inputWidgets": {},
     "nuid": "81d8e749-7d31-4901-b499-8a9e41429056",
     "showTitle": false,
     "tableResultSettingsMap": {},
     "title": ""
    }
   },
   "outputs": [
    {
     "output_type": "stream",
     "name": "stdout",
     "output_type": "stream",
     "text": [
      "[{'transaction_id': 'TXN_custom_364', 'customer_id': 'CUST_custom_364', 'transaction_date': '2024-06-03', 'amount': '6973', 'transaction_type': 'Transfer', 'merchant_name': 'York, Washington and Garza', 'merchant_category': 'Automotive', 'location': 'Mcclurestad, Liberia', 'ip_address': '172.156.11.1'}, {'transaction_id': 'TXN_custom_307', 'customer_id': 'CUST_custom_307', 'transaction_date': '2024-11-19', 'amount': '1860', 'transaction_type': 'Bill Payment', 'merchant_name': 'Mcneil Group', 'merchant_category': 'Entertainment', 'location': 'West Matthewmouth, Suriname', 'ip_address': '172.156.11.1'}, {'transaction_id': 'TXN_custom_393', 'customer_id': 'CUST_custom_393', 'transaction_date': '2024-08-22', 'amount': '8963', 'transaction_type': 'Cash Withdrawal', 'merchant_name': 'Cox PLC', 'merchant_category': 'Retail', 'location': 'West Samuelchester, Anguilla', 'ip_address': '172.156.11.1'}, {'transaction_id': 'TXN_custom_124', 'customer_id': 'CUST_custom_124', 'transaction_date': '2025-01-29', 'amount': '5991', 'transaction_type': 'Refund', 'merchant_name': 'Walsh, Wu and Hart', 'merchant_category': 'Travel', 'location': 'Ericside, Madagascar', 'ip_address': '172.156.11.1'}, {'transaction_id': 'TXN_custom_149', 'customer_id': 'CUST_custom_149', 'transaction_date': '2024-07-16', 'amount': '7485', 'transaction_type': 'Cash Withdrawal', 'merchant_name': 'George-Sullivan', 'merchant_category': 'Retail', 'location': 'Port Angelamouth, Australia', 'ip_address': '172.156.11.1'}, {'transaction_id': 'TXN_custom_329', 'customer_id': 'CUST_custom_329', 'transaction_date': '2024-11-24', 'amount': '3044', 'transaction_type': 'Refund', 'merchant_name': 'Hughes, Whitney and Romero', 'merchant_category': 'Entertainment', 'location': 'Williamport, Kyrgyz Republic', 'ip_address': '172.156.11.1'}, {'transaction_id': 'TXN_custom_131', 'customer_id': 'CUST_custom_131', 'transaction_date': '2025-04-20', 'amount': '6105', 'transaction_type': 'Bill Payment', 'merchant_name': 'Massey-Obrien', 'merchant_category': 'Travel', 'location': 'West Robertland, Brazil', 'ip_address': '172.156.11.1'}, {'transaction_id': 'TXN_custom_15', 'customer_id': 'CUST_custom_15', 'transaction_date': '2024-12-28', 'amount': '1792', 'transaction_type': 'Cash Withdrawal', 'merchant_name': 'Meadows Inc', 'merchant_category': 'Online Services', 'location': 'Erinmouth, Namibia', 'ip_address': '172.156.11.1'}, {'transaction_id': 'TXN_custom_5', 'customer_id': 'CUST_custom_5', 'transaction_date': '2024-08-19', 'amount': '2187', 'transaction_type': 'Cash Withdrawal', 'merchant_name': 'Moore-Garza', 'merchant_category': 'Travel', 'location': 'West Danielland, Russian Federation', 'ip_address': '172.156.11.1'}, {'transaction_id': 'TXN_custom_160', 'customer_id': 'CUST_custom_160', 'transaction_date': '2025-04-09', 'amount': '1543', 'transaction_type': 'Refund', 'merchant_name': 'Graham, Brown and Hughes', 'merchant_category': 'Automotive', 'location': 'Petersmouth, Senegal', 'ip_address': '172.156.11.1'}, {'transaction_id': 'TXN_custom_490', 'customer_id': 'CUST_custom_490', 'transaction_date': '2024-06-02', 'amount': '2015', 'transaction_type': 'Transfer', 'merchant_name': 'Barnett-Flynn', 'merchant_category': 'Retail', 'location': 'New Elizabethshire, Zimbabwe', 'ip_address': '172.156.11.1'}, {'transaction_id': 'TXN_custom_289', 'customer_id': 'CUST_custom_289', 'transaction_date': '2024-08-13', 'amount': '3072', 'transaction_type': 'Purchase', 'merchant_name': 'Villa Group', 'merchant_category': 'Automotive', 'location': 'West Larryside, Saudi Arabia', 'ip_address': '172.156.11.1'}, {'transaction_id': 'TXN_custom_438', 'customer_id': 'CUST_custom_438', 'transaction_date': '2024-06-07', 'amount': '9872', 'transaction_type': 'Bill Payment', 'merchant_name': 'Maxwell Inc', 'merchant_category': 'Health & Wellness', 'location': 'Barnettchester, Congo', 'ip_address': '172.156.11.1'}, {'transaction_id': 'TXN_custom_241', 'customer_id': 'CUST_custom_241', 'transaction_date': '2024-10-18', 'amount': '7290', 'transaction_type': 'Refund', 'merchant_name': 'Henry, Morrison and Macdonald', 'merchant_category': 'Automotive', 'location': 'Perrychester, Angola', 'ip_address': '172.156.11.1'}, {'transaction_id': 'TXN_custom_370', 'customer_id': 'CUST_custom_370', 'transaction_date': '2025-01-12', 'amount': '4594', 'transaction_type': 'Bill Payment', 'merchant_name': 'Norris, Callahan and Bishop', 'merchant_category': 'Travel', 'location': 'Lake Feliciaberg, Egypt', 'ip_address': '172.156.11.1'}, {'transaction_id': 'TXN_custom_323', 'customer_id': 'CUST_custom_323', 'transaction_date': '2025-01-31', 'amount': '2545', 'transaction_type': 'Transfer', 'merchant_name': 'Bartlett-Christian', 'merchant_category': 'Retail', 'location': 'Gutierrezville, Bosnia and Herzegovina', 'ip_address': '172.156.11.1'}, {'transaction_id': 'TXN_custom_321', 'customer_id': 'CUST_custom_321', 'transaction_date': '2024-09-17', 'amount': '6183', 'transaction_type': 'Cash Withdrawal', 'merchant_name': 'Krause, Rivera and Aguirre', 'merchant_category': 'Travel', 'location': 'Ballardland, Brunei Darussalam', 'ip_address': '172.156.11.1'}, {'transaction_id': 'TXN_custom_281', 'customer_id': 'CUST_custom_281', 'transaction_date': '2024-11-28', 'amount': '3298', 'transaction_type': 'Refund', 'merchant_name': 'Trujillo-Thomas', 'merchant_category': 'Online Services', 'location': 'Andersonfort, Seychelles', 'ip_address': '172.156.11.1'}, {'transaction_id': 'TXN_custom_263', 'customer_id': 'CUST_custom_263', 'transaction_date': '2024-12-13', 'amount': '2661', 'transaction_type': 'Refund', 'merchant_name': 'Douglas-Erickson', 'merchant_category': 'Online Services', 'location': 'New Brian, Algeria', 'ip_address': '172.156.11.1'}, {'transaction_id': 'TXN_custom_407', 'customer_id': 'CUST_custom_407', 'transaction_date': '2025-03-12', 'amount': '9499', 'transaction_type': 'Purchase', 'merchant_name': 'Scott and Sons', 'merchant_category': 'Entertainment', 'location': 'Douglastown, French Guiana', 'ip_address': '172.156.11.1'}, {'transaction_id': 'TXN_custom_353', 'customer_id': 'CUST_custom_353', 'transaction_date': '2025-01-09', 'amount': '9799', 'transaction_type': 'Refund', 'merchant_name': 'Woods, Kaufman and Hawkins', 'merchant_category': 'Automotive', 'location': 'Hansonside, France', 'ip_address': '172.156.11.1'}, {'transaction_id': 'TXN_custom_20', 'customer_id': 'CUST_custom_20', 'transaction_date': '2024-10-09', 'amount': '7789', 'transaction_type': 'Refund', 'merchant_name': 'Roberts-Patel', 'merchant_category': 'Automotive', 'location': 'Brianmouth, United States of America', 'ip_address': '172.156.11.1'}, {'transaction_id': 'TXN_custom_396', 'customer_id': 'CUST_custom_396', 'transaction_date': '2025-05-14', 'amount': '4022', 'transaction_type': 'Transfer', 'merchant_name': 'Leach, Mccormick and Cox', 'merchant_category': 'Entertainment', 'location': 'East Kyle, Gambia', 'ip_address': '172.156.11.1'}, {'transaction_id': 'TXN_custom_468', 'customer_id': 'CUST_custom_468', 'transaction_date': '2024-05-30', 'amount': '2003', 'transaction_type': 'Purchase', 'merchant_name': 'Flores, Olson and Brown', 'merchant_category': 'Retail', 'location': 'Port Jeffreymouth, Germany', 'ip_address': '172.156.11.1'}, {'transaction_id': 'TXN_custom_158', 'customer_id': 'CUST_custom_158', 'transaction_date': '2024-09-06', 'amount': '8771', 'transaction_type': 'Cash Withdrawal', 'merchant_name': 'Nolan PLC', 'merchant_category': 'Online Services', 'location': 'Dixonview, Somalia', 'ip_address': '172.156.11.1'}, {'transaction_id': 'TXN_custom_488', 'customer_id': 'CUST_custom_488', 'transaction_date': '2025-01-28', 'amount': '436', 'transaction_type': 'Purchase', 'merchant_name': 'Love, King and Anderson', 'merchant_category': 'Entertainment', 'location': 'West Erikside, Ukraine', 'ip_address': '172.156.11.1'}, {'transaction_id': 'TXN_custom_236', 'customer_id': 'CUST_custom_236', 'transaction_date': '2024-07-06', 'amount': '2745', 'transaction_type': 'Cash Withdrawal', 'merchant_name': 'Jones-Cross', 'merchant_category': 'Travel', 'location': 'New Clinton, Mayotte', 'ip_address': '172.156.11.1'}, {'transaction_id': 'TXN_custom_34', 'customer_id': 'CUST_custom_34', 'transaction_date': '2024-08-31', 'amount': '3055', 'transaction_type': 'Bill Payment', 'merchant_name': 'Warren, Marks and Medina', 'merchant_category': 'Automotive', 'location': 'New Kelseyland, Brazil', 'ip_address': '172.156.11.1'}, {'transaction_id': 'TXN_custom_198', 'customer_id': 'CUST_custom_198', 'transaction_date': '2025-01-16', 'amount': '8233', 'transaction_type': 'Purchase', 'merchant_name': 'Cannon Ltd', 'merchant_category': 'Entertainment', 'location': 'Brettfort, Tunisia', 'ip_address': '172.156.11.1'}, {'transaction_id': 'TXN_custom_437', 'customer_id': 'CUST_custom_437', 'transaction_date': '2024-08-19', 'amount': '8983', 'transaction_type': 'Transfer', 'merchant_name': 'Vargas-Torres', 'merchant_category': 'Food & Dining', 'location': 'West Edward, Sweden', 'ip_address': '172.156.11.1'}, {'transaction_id': 'TXN_custom_465', 'customer_id': 'CUST_custom_465', 'transaction_date': '2024-09-15', 'amount': '2186', 'transaction_type': 'Cash Withdrawal', 'merchant_name': 'Bernard, Garcia and Pope', 'merchant_category': 'Online Services', 'location': 'Hickmanchester, Malaysia', 'ip_address': '172.156.11.1'}, {'transaction_id': 'TXN_custom_328', 'customer_id': 'CUST_custom_328', 'transaction_date': '2024-05-25', 'amount': '9265', 'transaction_type': 'Bill Payment', 'merchant_name': 'Levy-May', 'merchant_category': 'Automotive', 'location': 'Rosechester, Tuvalu', 'ip_address': '172.156.11.1'}, {'transaction_id': 'TXN_custom_52', 'customer_id': 'CUST_custom_52', 'transaction_date': '2025-04-18', 'amount': '3108', 'transaction_type': 'Transfer', 'merchant_name': 'Deleon Ltd', 'merchant_category': 'Automotive', 'location': 'South Davidside, Montserrat', 'ip_address': '172.156.11.1'}, {'transaction_id': 'TXN_custom_59', 'customer_id': 'CUST_custom_59', 'transaction_date': '2025-04-09', 'amount': '9172', 'transaction_type': 'Bill Payment', 'merchant_name': 'Clarke-Payne', 'merchant_category': 'Online Services', 'location': 'Bryantland, Paraguay', 'ip_address': '172.156.11.1'}, {'transaction_id': 'TXN_custom_330', 'customer_id': 'CUST_custom_330', 'transaction_date': '2025-02-09', 'amount': '9551', 'transaction_type': 'Transfer', 'merchant_name': 'Gutierrez-Ross', 'merchant_category': 'Online Services', 'location': 'Kyleville, Syrian Arab Republic', 'ip_address': '172.156.11.1'}, {'transaction_id': 'TXN_custom_252', 'customer_id': 'CUST_custom_252', 'transaction_date': '2024-07-31', 'amount': '5609', 'transaction_type': 'Bill Payment', 'merchant_name': 'Parker-Watkins', 'merchant_category': 'Entertainment', 'location': 'South Jose, Heard Island and McDonald Islands', 'ip_address': '172.156.11.1'}, {'transaction_id': 'TXN_custom_249', 'customer_id': 'CUST_custom_249', 'transaction_date': '2024-11-12', 'amount': '4816', 'transaction_type': 'Cash Withdrawal', 'merchant_name': 'Parks, Johnson and Love', 'merchant_category': 'Online Services', 'location': 'Lake Alyssahaven, Bermuda', 'ip_address': '172.156.11.1'}, {'transaction_id': 'TXN_custom_400', 'customer_id': 'CUST_custom_400', 'transaction_date': '2024-06-12', 'amount': '7648', 'transaction_type': 'Refund', 'merchant_name': 'Mcdonald, Bryant and Cohen', 'merchant_category': 'Health & Wellness', 'location': 'Fitzgeraldport, United Kingdom', 'ip_address': '172.156.11.1'}, {'transaction_id': 'TXN_custom_244', 'customer_id': 'CUST_custom_244', 'transaction_date': '2025-04-03', 'amount': '5355', 'transaction_type': 'Transfer', 'merchant_name': 'Becker, Arroyo and Mercer', 'merchant_category': 'Entertainment', 'location': 'Port Elijahbury, Oman', 'ip_address': '172.156.11.1'}, {'transaction_id': 'TXN_custom_403', 'customer_id': 'CUST_custom_403', 'transaction_date': '2024-05-26', 'amount': '4043', 'transaction_type': 'Purchase', 'merchant_name': 'Powell-Castro', 'merchant_category': 'Online Services', 'location': 'Robertfurt, Guyana', 'ip_address': '172.156.11.1'}, {'transaction_id': 'TXN_custom_189', 'customer_id': 'CUST_custom_189', 'transaction_date': '2024-07-20', 'amount': '3139', 'transaction_type': 'Refund', 'merchant_name': 'Greene, Rogers and Haley', 'merchant_category': 'Health & Wellness', 'location': 'Port Joannafurt, Rwanda', 'ip_address': '172.156.11.1'}, {'transaction_id': 'TXN_custom_385', 'customer_id': 'CUST_custom_385', 'transaction_date': '2024-09-02', 'amount': '703', 'transaction_type': 'Purchase', 'merchant_name': 'Williams-Carter', 'merchant_category': 'Entertainment', 'location': 'South Michelle, Brazil', 'ip_address': '172.156.11.1'}, {'transaction_id': 'TXN_custom_299', 'customer_id': 'CUST_custom_299', 'transaction_date': '2024-10-14', 'amount': '7371', 'transaction_type': 'Transfer', 'merchant_name': 'Leach, Mccormick and Cox', 'merchant_category': 'Online Services', 'location': 'Paynetown, Kazakhstan', 'ip_address': '172.156.11.1'}, {'transaction_id': 'TXN_custom_97', 'customer_id': 'CUST_custom_97', 'transaction_date': '2024-09-21', 'amount': '3447', 'transaction_type': 'Refund', 'merchant_name': 'Montoya Group', 'merchant_category': 'Travel', 'location': 'North Kathryn, Egypt', 'ip_address': '172.156.11.1'}, {'transaction_id': 'TXN_custom_444', 'customer_id': 'CUST_custom_444', 'transaction_date': '2024-08-16', 'amount': '3485', 'transaction_type': 'Purchase', 'merchant_name': 'Miller, Lopez and Miller', 'merchant_category': 'Health & Wellness', 'location': 'Williamport, Myanmar', 'ip_address': '172.156.11.1'}, {'transaction_id': 'TXN_custom_12', 'customer_id': 'CUST_custom_12', 'transaction_date': '2024-11-19', 'amount': '7969', 'transaction_type': 'Transfer', 'merchant_name': 'Stafford-Lambert', 'merchant_category': 'Automotive', 'location': 'Shannonton, Jamaica', 'ip_address': '172.156.11.1'}, {'transaction_id': 'TXN_custom_461', 'customer_id': 'CUST_custom_461', 'transaction_date': '2024-09-12', 'amount': '6883', 'transaction_type': 'Bill Payment', 'merchant_name': 'Young-Blair', 'merchant_category': 'Travel', 'location': 'Campbellville, Saint Vincent and the Grenadines', 'ip_address': '172.156.11.1'}, {'transaction_id': 'TXN_custom_104', 'customer_id': 'CUST_custom_104', 'transaction_date': '2025-01-02', 'amount': '8815', 'transaction_type': 'Purchase', 'merchant_name': 'Daniels-Sloan', 'merchant_category': 'Food & Dining', 'location': 'Lake Charlesland, Moldova', 'ip_address': '172.156.11.1'}, {'transaction_id': 'TXN_custom_284', 'customer_id': 'CUST_custom_284', 'transaction_date': '2024-09-06', 'amount': '3014', 'transaction_type': 'Cash Withdrawal', 'merchant_name': 'May and Sons', 'merchant_category': 'Online Services', 'location': 'Port Kevinstad, Nicaragua', 'ip_address': '172.156.11.1'}, {'transaction_id': 'TXN_custom_423', 'customer_id': 'CUST_custom_423', 'transaction_date': '2024-10-30', 'amount': '8365', 'transaction_type': 'Refund', 'merchant_name': 'Howard, Fernandez and Rodriguez', 'merchant_category': 'Travel', 'location': 'North Jose, Afghanistan', 'ip_address': '172.156.11.1'}, {'transaction_id': 'TXN_custom_386', 'customer_id': 'CUST_custom_386', 'transaction_date': '2024-09-11', 'amount': '197', 'transaction_type': 'Transfer', 'merchant_name': 'Strickland-Palmer', 'merchant_category': 'Travel', 'location': 'Maryport, Paraguay', 'ip_address': '172.156.11.1'}, {'transaction_id': 'TXN_custom_25', 'customer_id': 'CUST_custom_25', 'transaction_date': '2024-07-04', 'amount': '6889', 'transaction_type': 'Refund', 'merchant_name': 'Palmer-Smith', 'merchant_category': 'Food & Dining', 'location': 'Youngtown, United States Minor Outlying Islands', 'ip_address': '172.156.11.1'}, {'transaction_id': 'TXN_custom_130', 'customer_id': 'CUST_custom_130', 'transaction_date': '2024-08-09', 'amount': '2991', 'transaction_type': 'Refund', 'merchant_name': 'Davis-Sanchez', 'merchant_category': 'Retail', 'location': 'Liustad, Mauritius', 'ip_address': '172.156.11.1'}, {'transaction_id': 'TXN_custom_456', 'customer_id': 'CUST_custom_456', 'transaction_date': '2025-03-02', 'amount': '871', 'transaction_type': 'Purchase', 'merchant_name': 'Larson-Holloway', 'merchant_category': 'Food & Dining', 'location': 'Petersmouth, Senegal', 'ip_address': '172.156.11.1'}, {'transaction_id': 'TXN_custom_14', 'customer_id': 'CUST_custom_14', 'transaction_date': '2025-03-15', 'amount': '7502', 'transaction_type': 'Purchase', 'merchant_name': 'Hernandez, Rivera and White', 'merchant_category': 'Entertainment', 'location': 'New Johnburgh, South Georgia and the South Sandwich Islands', 'ip_address': '172.156.11.1'}, {'transaction_id': 'TXN_custom_90', 'customer_id': 'CUST_custom_90', 'transaction_date': '2025-03-19', 'amount': '4706', 'transaction_type': 'Refund', 'merchant_name': 'Phillips, Spence and Barrett', 'merchant_category': 'Health & Wellness', 'location': 'North Kristinaville, Samoa', 'ip_address': '172.156.11.1'}, {'transaction_id': 'TXN_custom_63', 'customer_id': 'CUST_custom_63', 'transaction_date': '2024-08-25', 'amount': '3374', 'transaction_type': 'Refund', 'merchant_name': 'Martinez-Walker', 'merchant_category': 'Entertainment', 'location': 'South Audreyfurt, Sri Lanka', 'ip_address': '172.156.11.1'}, {'transaction_id': 'TXN_custom_227', 'customer_id': 'CUST_custom_227', 'transaction_date': '2025-02-28', 'amount': '4720', 'transaction_type': 'Cash Withdrawal', 'merchant_name': 'Lewis-Carlson', 'merchant_category': 'Retail', 'location': 'Stokesburgh, French Southern Territories', 'ip_address': '172.156.11.1'}, {'transaction_id': 'TXN_custom_150', 'customer_id': 'CUST_custom_150', 'transaction_date': '2024-10-12', 'amount': '5067', 'transaction_type': 'Cash Withdrawal', 'merchant_name': 'Mora-Harrison', 'merchant_category': 'Retail', 'location': 'Johnstonbury, Pitcairn Islands', 'ip_address': '172.156.11.1'}, {'transaction_id': 'TXN_custom_290', 'customer_id': 'CUST_custom_290', 'transaction_date': '2024-12-05', 'amount': '4575', 'transaction_type': 'Refund', 'merchant_name': 'Williams, Medina and Moore', 'merchant_category': 'Retail', 'location': 'New Regina, Guadeloupe', 'ip_address': '172.156.11.1'}, {'transaction_id': 'TXN_custom_272', 'customer_id': 'CUST_custom_272', 'transaction_date': '2024-11-02', 'amount': '9656', 'transaction_type': 'Refund', 'merchant_name': 'Thornton and Sons', 'merchant_category': 'Online Services', 'location': 'North Sandra, Bangladesh', 'ip_address': '172.156.11.1'}, {'transaction_id': 'TXN_custom_383', 'customer_id': 'CUST_custom_383', 'transaction_date': '2024-06-06', 'amount': '7579', 'transaction_type': 'Transfer', 'merchant_name': 'Morales Ltd', 'merchant_category': 'Online Services', 'location': 'West Charles, Papua New Guinea', 'ip_address': '172.156.11.1'}, {'transaction_id': 'TXN_custom_286', 'customer_id': 'CUST_custom_286', 'transaction_date': '2024-09-03', 'amount': '9991', 'transaction_type': 'Transfer', 'merchant_name': 'James-West', 'merchant_category': 'Travel', 'location': 'Kevinfort, British Virgin Islands', 'ip_address': '172.156.11.1'}, {'transaction_id': 'TXN_custom_271', 'customer_id': 'CUST_custom_271', 'transaction_date': '2024-08-09', 'amount': '804', 'transaction_type': 'Bill Payment', 'merchant_name': 'Valentine Inc', 'merchant_category': 'Food & Dining', 'location': 'Boydstad, Nicaragua', 'ip_address': '172.156.11.1'}, {'transaction_id': 'TXN_custom_18', 'customer_id': 'CUST_custom_18', 'transaction_date': '2025-01-03', 'amount': '9783', 'transaction_type': 'Refund', 'merchant_name': 'Allen, Lewis and Mullins', 'merchant_category': 'Automotive', 'location': 'New Philip, Guam', 'ip_address': '172.156.11.1'}, {'transaction_id': 'TXN_custom_19', 'customer_id': 'CUST_custom_19', 'transaction_date': '2025-04-29', 'amount': '9126', 'transaction_type': 'Purchase', 'merchant_name': 'Jennings, Smith and Fisher', 'merchant_category': 'Food & Dining', 'location': 'North Tammiestad, Albania', 'ip_address': '172.156.11.1'}, {'transaction_id': 'TXN_custom_61', 'customer_id': 'CUST_custom_61', 'transaction_date': '2025-03-19', 'amount': '933', 'transaction_type': 'Transfer', 'merchant_name': 'Carter, Jenkins and Reyes', 'merchant_category': 'Entertainment', 'location': 'Arellanoland, Uzbekistan', 'ip_address': '172.156.11.1'}, {'transaction_id': 'TXN_custom_246', 'customer_id': 'CUST_custom_246', 'transaction_date': '2024-05-24', 'amount': '5108', 'transaction_type': 'Bill Payment', 'merchant_name': 'Johnson, Hernandez and Jackson', 'merchant_category': 'Travel', 'location': 'Pattonstad, Cyprus', 'ip_address': '172.156.11.1'}, {'transaction_id': 'TXN_custom_359', 'customer_id': 'CUST_custom_359', 'transaction_date': '2025-02-15', 'amount': '714', 'transaction_type': 'Purchase', 'merchant_name': 'Moore, Wallace and Edwards', 'merchant_category': 'Entertainment', 'location': 'Blairside, Rwanda', 'ip_address': '172.156.11.1'}, {'transaction_id': 'TXN_custom_88', 'customer_id': 'CUST_custom_88', 'transaction_date': '2025-01-27', 'amount': '4847', 'transaction_type': 'Refund', 'merchant_name': 'Hodge, Mckinney and Nelson', 'merchant_category': 'Travel', 'location': 'North Andreaport, Brunei Darussalam', 'ip_address': '172.156.11.1'}, {'transaction_id': 'TXN_custom_404', 'customer_id': 'CUST_custom_404', 'transaction_date': '2025-02-20', 'amount': '2001', 'transaction_type': 'Purchase', 'merchant_name': 'Burns LLC', 'merchant_category': 'Food & Dining', 'location': 'Wilsonborough, Saint Barthelemy', 'ip_address': '172.156.11.1'}, {'transaction_id': 'TXN_custom_300', 'customer_id': 'CUST_custom_300', 'transaction_date': '2025-03-12', 'amount': '8854', 'transaction_type': 'Cash Withdrawal', 'merchant_name': 'Smith-Allen', 'merchant_category': 'Online Services', 'location': 'Juliebury, Grenada', 'ip_address': '172.156.11.1'}, {'transaction_id': 'TXN_custom_179', 'customer_id': 'CUST_custom_179', 'transaction_date': '2024-07-03', 'amount': '5400', 'transaction_type': 'Cash Withdrawal', 'merchant_name': 'Vazquez, James and Black', 'merchant_category': 'Online Services', 'location': 'West Victoriaburgh, Iran', 'ip_address': '172.156.11.1'}, {'transaction_id': 'TXN_custom_235', 'customer_id': 'CUST_custom_235', 'transaction_date': '2024-12-17', 'amount': '2700', 'transaction_type': 'Purchase', 'merchant_name': 'Becker, Schwartz and Silva', 'merchant_category': 'Online Services', 'location': 'West John, Marshall Islands', 'ip_address': '172.156.11.1'}, {'transaction_id': 'TXN_custom_331', 'customer_id': 'CUST_custom_331', 'transaction_date': '2024-07-07', 'amount': '8893', 'transaction_type': 'Purchase', 'merchant_name': 'Grant and Sons', 'merchant_category': 'Retail', 'location': 'West Sarah, Syrian Arab Republic', 'ip_address': '172.156.11.1'}, {'transaction_id': 'TXN_custom_157', 'customer_id': 'CUST_custom_157', 'transaction_date': '2025-04-09', 'amount': '7432', 'transaction_type': 'Cash Withdrawal', 'merchant_name': 'Robinson-Conley', 'merchant_category': 'Health & Wellness', 'location': 'Elizabethmouth, United Kingdom', 'ip_address': '172.156.11.1'}, {'transaction_id': 'TXN_custom_102', 'customer_id': 'CUST_custom_102', 'transaction_date': '2024-10-21', 'amount': '7092', 'transaction_type': 'Cash Withdrawal', 'merchant_name': 'Maxwell, Rice and Watson', 'merchant_category': 'Food & Dining', 'location': 'South Brettside, Congo', 'ip_address': '172.156.11.1'}, {'transaction_id': 'TXN_custom_497', 'customer_id': 'CUST_custom_497', 'transaction_date': '2024-08-07', 'amount': '8225', 'transaction_type': 'Bill Payment', 'merchant_name': 'Mendoza-Rodriguez', 'merchant_category': 'Online Services', 'location': 'Craneland, Central African Republic', 'ip_address': '172.156.11.1'}, {'transaction_id': 'TXN_custom_3', 'customer_id': 'CUST_custom_3', 'transaction_date': '2024-08-20', 'amount': '4574', 'transaction_type': 'Bill Payment', 'merchant_name': 'Williams-Turner', 'merchant_category': 'Automotive', 'location': 'Shawnfurt, Canada', 'ip_address': '172.156.11.1'}, {'transaction_id': 'TXN_custom_343', 'customer_id': 'CUST_custom_343', 'transaction_date': '2025-04-19', 'amount': '9818', 'transaction_type': 'Transfer', 'merchant_name': 'Terry-Rogers', 'merchant_category': 'Travel', 'location': 'New Laurenfort, Wallis and Futuna', 'ip_address': '172.156.11.1'}, {'transaction_id': 'TXN_custom_69', 'customer_id': 'CUST_custom_69', 'transaction_date': '2024-11-22', 'amount': '5250', 'transaction_type': 'Purchase', 'merchant_name': 'Love, King and Anderson', 'merchant_category': 'Retail', 'location': 'South Gary, Croatia', 'ip_address': '172.156.11.1'}, {'transaction_id': 'TXN_custom_214', 'customer_id': 'CUST_custom_214', 'transaction_date': '2024-12-19', 'amount': '6645', 'transaction_type': 'Cash Withdrawal', 'merchant_name': 'Yang, Wilson and Zimmerman', 'merchant_category': 'Online Services', 'location': 'South Marissamouth, Micronesia', 'ip_address': '172.156.11.1'}, {'transaction_id': 'TXN_custom_336', 'customer_id': 'CUST_custom_336', 'transaction_date': '2024-12-1\n\n*** WARNING: max output size exceeded, skipping output. ***\n\n 'Retail')) { flagAsFraud(); }\"]}\nTrue\n✅ Logged transaction TXN_custom_243 with 2 rule(s) fired.\n{'transaction_Date': '2024-06-19', 'transaction_id': 'TXN_custom_243', 'transactionAmount': '9955', 'is_fraud': True, 'rules_fired': [\"if (transaction['ip_address'] === '172.156.11.1' && (transaction['merchant_category'] === 'Online Services' || transaction['merchant_category'] === 'Retail')) { flagAsFraud(); }\", \"if (transaction['ip_address'] === '172.156.11.1' && (transaction['merchant_category'] === 'Online Services' || transaction['merchant_category'] === 'Entertainment' || transaction['merchant_category'] === 'Retail')) { flagAsFraud(); }\"]}\nFalse\nFalse\nTrue\n✅ Logged transaction TXN_custom_115 with 1 rule(s) fired.\n{'transaction_Date': '2024-05-25', 'transaction_id': 'TXN_custom_115', 'transactionAmount': '8523', 'is_fraud': True, 'rules_fired': [\"if (transaction['ip_address'] === '172.156.11.1' && (transaction['merchant_category'] === 'Online Services' || transaction['merchant_category'] === 'Entertainment' || transaction['merchant_category'] === 'Retail')) { flagAsFraud(); }\"]}\nTrue\n✅ Logged transaction TXN_custom_373 with 1 rule(s) fired.\n{'transaction_Date': '2024-06-14', 'transaction_id': 'TXN_custom_373', 'transactionAmount': '547', 'is_fraud': True, 'rules_fired': [\"if (transaction['ip_address'] === '172.156.11.1' && (transaction['merchant_category'] === 'Online Services' || transaction['merchant_category'] === 'Entertainment' || transaction['merchant_category'] === 'Retail')) { flagAsFraud(); }\"]}\nFalse\nFalse\nTrue\n✅ Logged transaction TXN_custom_141 with 1 rule(s) fired.\n{'transaction_Date': '2024-10-18', 'transaction_id': 'TXN_custom_141', 'transactionAmount': '9943', 'is_fraud': True, 'rules_fired': [\"if (transaction['ip_address'] === '172.156.11.1' && (transaction['merchant_category'] === 'Online Services' || transaction['merchant_category'] === 'Entertainment' || transaction['merchant_category'] === 'Retail')) { flagAsFraud(); }\"]}\nTrue\n✅ Logged transaction TXN_custom_80 with 1 rule(s) fired.\n{'transaction_Date': '2024-08-26', 'transaction_id': 'TXN_custom_80', 'transactionAmount': '3041', 'is_fraud': True, 'rules_fired': [\"if (transaction['ip_address'] === '172.156.11.1' && (transaction['merchant_category'] === 'Online Services' || transaction['merchant_category'] === 'Entertainment' || transaction['merchant_category'] === 'Retail')) { flagAsFraud(); }\"]}\nFalse\nFalse\nFalse\nTrue\n✅ Logged transaction TXN_custom_324 with 1 rule(s) fired.\n{'transaction_Date': '2025-01-12', 'transaction_id': 'TXN_custom_324', 'transactionAmount': '6442', 'is_fraud': True, 'rules_fired': [\"if (transaction['ip_address'] === '172.156.11.1' && (transaction['merchant_category'] === 'Online Services' || transaction['merchant_category'] === 'Entertainment' || transaction['merchant_category'] === 'Retail')) { flagAsFraud(); }\"]}\nFalse\nFalse\nFalse\nFalse\nFalse\nFalse\nTrue\n✅ Logged transaction TXN_custom_200 with 1 rule(s) fired.\n{'transaction_Date': '2025-04-02', 'transaction_id': 'TXN_custom_200', 'transactionAmount': '8397', 'is_fraud': True, 'rules_fired': [\"if (transaction['ip_address'] === '172.156.11.1' && (transaction['merchant_category'] === 'Online Services' || transaction['merchant_category'] === 'Entertainment' || transaction['merchant_category'] === 'Retail')) { flagAsFraud(); }\"]}\nTrue\n✅ Logged transaction TXN_custom_408 with 1 rule(s) fired.\n{'transaction_Date': '2025-02-04', 'transaction_id': 'TXN_custom_408', 'transactionAmount': '2305', 'is_fraud': True, 'rules_fired': [\"if (transaction['ip_address'] === '172.156.11.1' && (transaction['merchant_category'] === 'Online Services' || transaction['merchant_category'] === 'Entertainment' || transaction['merchant_category'] === 'Retail')) { flagAsFraud(); }\"]}\nTrue\n✅ Logged transaction TXN_custom_306 with 3 rule(s) fired.\n{'transaction_Date': '2025-02-17', 'transaction_id': 'TXN_custom_306', 'transactionAmount': '3010', 'is_fraud': True, 'rules_fired': [\"if (transaction['ip_address'] === '172.156.11.1' && (transaction['merchant_category'] === 'Online Services')) { flagAsFraud(); }\", \"if (transaction['ip_address'] === '172.156.11.1' && (transaction['merchant_category'] === 'Online Services' || transaction['merchant_category'] === 'Retail')) { flagAsFraud(); }\", \"if (transaction['ip_address'] === '172.156.11.1' && (transaction['merchant_category'] === 'Online Services' || transaction['merchant_category'] === 'Entertainment' || transaction['merchant_category'] === 'Retail')) { flagAsFraud(); }\"]}\nTrue\n✅ Logged transaction TXN_custom_415 with 2 rule(s) fired.\n{'transaction_Date': '2025-01-06', 'transaction_id': 'TXN_custom_415', 'transactionAmount': '7953', 'is_fraud': True, 'rules_fired': [\"if (transaction['ip_address'] === '172.156.11.1' && (transaction['merchant_category'] === 'Online Services' || transaction['merchant_category'] === 'Retail')) { flagAsFraud(); }\", \"if (transaction['ip_address'] === '172.156.11.1' && (transaction['merchant_category'] === 'Online Services' || transaction['merchant_category'] === 'Entertainment' || transaction['merchant_category'] === 'Retail')) { flagAsFraud(); }\"]}\nTrue\n✅ Logged transaction TXN_custom_375 with 2 rule(s) fired.\n{'transaction_Date': '2025-03-13', 'transaction_id': 'TXN_custom_375', 'transactionAmount': '4998', 'is_fraud': True, 'rules_fired': [\"if (transaction['ip_address'] === '172.156.11.1' && (transaction['merchant_category'] === 'Online Services' || transaction['merchant_category'] === 'Retail')) { flagAsFraud(); }\", \"if (transaction['ip_address'] === '172.156.11.1' && (transaction['merchant_category'] === 'Online Services' || transaction['merchant_category'] === 'Entertainment' || transaction['merchant_category'] === 'Retail')) { flagAsFraud(); }\"]}\nTrue\n✅ Logged transaction TXN_custom_208 with 1 rule(s) fired.\n{'transaction_Date': '2024-06-16', 'transaction_id': 'TXN_custom_208', 'transactionAmount': '5654', 'is_fraud': True, 'rules_fired': [\"if (transaction['ip_address'] === '172.156.11.1' && (transaction['merchant_category'] === 'Online Services' || transaction['merchant_category'] === 'Entertainment' || transaction['merchant_category'] === 'Retail')) { flagAsFraud(); }\"]}\nFalse\nFalse\nFalse\nFalse\nFalse\nTrue\n✅ Logged transaction TXN_custom_234 with 1 rule(s) fired.\n{'transaction_Date': '2024-08-29', 'transaction_id': 'TXN_custom_234', 'transactionAmount': '8770', 'is_fraud': True, 'rules_fired': [\"if (transaction['ip_address'] === '172.156.11.1' && (transaction['merchant_category'] === 'Online Services' || transaction['merchant_category'] === 'Entertainment' || transaction['merchant_category'] === 'Retail')) { flagAsFraud(); }\"]}\nFalse\nFalse\nTrue\n✅ Logged transaction TXN_custom_496 with 3 rule(s) fired.\n{'transaction_Date': '2025-03-25', 'transaction_id': 'TXN_custom_496', 'transactionAmount': '5422', 'is_fraud': True, 'rules_fired': [\"if (transaction['ip_address'] === '172.156.11.1' && (transaction['merchant_category'] === 'Online Services')) { flagAsFraud(); }\", \"if (transaction['ip_address'] === '172.156.11.1' && (transaction['merchant_category'] === 'Online Services' || transaction['merchant_category'] === 'Retail')) { flagAsFraud(); }\", \"if (transaction['ip_address'] === '172.156.11.1' && (transaction['merchant_category'] === 'Online Services' || transaction['merchant_category'] === 'Entertainment' || transaction['merchant_category'] === 'Retail')) { flagAsFraud(); }\"]}\nFalse\nFalse\nFalse\nFalse\nFalse\nFalse\nFalse\nTrue\n✅ Logged transaction TXN_custom_166 with 1 rule(s) fired.\n{'transaction_Date': '2024-07-27', 'transaction_id': 'TXN_custom_166', 'transactionAmount': '3204', 'is_fraud': True, 'rules_fired': [\"if (transaction['ip_address'] === '172.156.11.1' && (transaction['merchant_category'] === 'Online Services' || transaction['merchant_category'] === 'Entertainment' || transaction['merchant_category'] === 'Retail')) { flagAsFraud(); }\"]}\nFalse\nFalse\nFalse\nFalse\nFalse\nTrue\n✅ Logged transaction TXN_custom_378 with 1 rule(s) fired.\n{'transaction_Date': '2024-08-11', 'transaction_id': 'TXN_custom_378', 'transactionAmount': '2929', 'is_fraud': True, 'rules_fired': [\"if (transaction['ip_address'] === '172.156.11.1' && (transaction['merchant_category'] === 'Online Services' || transaction['merchant_category'] === 'Entertainment' || transaction['merchant_category'] === 'Retail')) { flagAsFraud(); }\"]}\nFalse\nFalse\nFalse\nFalse\nTrue\n✅ Logged transaction TXN_custom_137 with 3 rule(s) fired.\n{'transaction_Date': '2025-03-04', 'transaction_id': 'TXN_custom_137', 'transactionAmount': '4579', 'is_fraud': True, 'rules_fired': [\"if (transaction['ip_address'] === '172.156.11.1' && (transaction['merchant_category'] === 'Online Services')) { flagAsFraud(); }\", \"if (transaction['ip_address'] === '172.156.11.1' && (transaction['merchant_category'] === 'Online Services' || transaction['merchant_category'] === 'Retail')) { flagAsFraud(); }\", \"if (transaction['ip_address'] === '172.156.11.1' && (transaction['merchant_category'] === 'Online Services' || transaction['merchant_category'] === 'Entertainment' || transaction['merchant_category'] === 'Retail')) { flagAsFraud(); }\"]}\nFalse\nFalse\nFalse\nFalse\nTrue\n✅ Logged transaction TXN_custom_425 with 2 rule(s) fired.\n{'transaction_Date': '2025-03-04', 'transaction_id': 'TXN_custom_425', 'transactionAmount': '9331', 'is_fraud': True, 'rules_fired': [\"if (transaction['ip_address'] === '172.156.11.1' && (transaction['merchant_category'] === 'Online Services' || transaction['merchant_category'] === 'Retail')) { flagAsFraud(); }\", \"if (transaction['ip_address'] === '172.156.11.1' && (transaction['merchant_category'] === 'Online Services' || transaction['merchant_category'] === 'Entertainment' || transaction['merchant_category'] === 'Retail')) { flagAsFraud(); }\"]}\nFalse\nFalse\nFalse\nFalse\nTrue\n✅ Logged transaction TXN_custom_161 with 3 rule(s) fired.\n{'transaction_Date': '2024-09-26', 'transaction_id': 'TXN_custom_161', 'transactionAmount': '5005', 'is_fraud': True, 'rules_fired': [\"if (transaction['ip_address'] === '172.156.11.1' && (transaction['merchant_category'] === 'Online Services')) { flagAsFraud(); }\", \"if (transaction['ip_address'] === '172.156.11.1' && (transaction['merchant_category'] === 'Online Services' || transaction['merchant_category'] === 'Retail')) { flagAsFraud(); }\", \"if (transaction['ip_address'] === '172.156.11.1' && (transaction['merchant_category'] === 'Online Services' || transaction['merchant_category'] === 'Entertainment' || transaction['merchant_category'] === 'Retail')) { flagAsFraud(); }\"]}\nTrue\n✅ Logged transaction TXN_custom_122 with 3 rule(s) fired.\n{'transaction_Date': '2025-04-02', 'transaction_id': 'TXN_custom_122', 'transactionAmount': '2512', 'is_fraud': True, 'rules_fired': [\"if (transaction['ip_address'] === '172.156.11.1' && (transaction['merchant_category'] === 'Online Services')) { flagAsFraud(); }\", \"if (transaction['ip_address'] === '172.156.11.1' && (transaction['merchant_category'] === 'Online Services' || transaction['merchant_category'] === 'Retail')) { flagAsFraud(); }\", \"if (transaction['ip_address'] === '172.156.11.1' && (transaction['merchant_category'] === 'Online Services' || transaction['merchant_category'] === 'Entertainment' || transaction['merchant_category'] === 'Retail')) { flagAsFraud(); }\"]}\nFalse\nFalse\nFalse\nFalse\nFalse\nFalse\nFalse\nFalse\nFalse\nTrue\n✅ Logged transaction TXN_custom_446 with 1 rule(s) fired.\n{'transaction_Date': '2025-03-18', 'transaction_id': 'TXN_custom_446', 'transactionAmount': '8350', 'is_fraud': True, 'rules_fired': [\"if (transaction['ip_address'] === '172.156.11.1' && (transaction['merchant_category'] === 'Online Services' || transaction['merchant_category'] === 'Entertainment' || transaction['merchant_category'] === 'Retail')) { flagAsFraud(); }\"]}\nTrue\n✅ Logged transaction TXN_custom_107 with 1 rule(s) fired.\n{'transaction_Date': '2025-03-16', 'transaction_id': 'TXN_custom_107', 'transactionAmount': '9971', 'is_fraud': True, 'rules_fired': [\"if (transaction['ip_address'] === '172.156.11.1' && (transaction['merchant_category'] === 'Online Services' || transaction['merchant_category'] === 'Entertainment' || transaction['merchant_category'] === 'Retail')) { flagAsFraud(); }\"]}\nFalse\nTrue\n✅ Logged transaction TXN_custom_136 with 1 rule(s) fired.\n{'transaction_Date': '2024-12-08', 'transaction_id': 'TXN_custom_136', 'transactionAmount': '1677', 'is_fraud': True, 'rules_fired': [\"if (transaction['ip_address'] === '172.156.11.1' && (transaction['merchant_category'] === 'Online Services' || transaction['merchant_category'] === 'Entertainment' || transaction['merchant_category'] === 'Retail')) { flagAsFraud(); }\"]}\nFalse\nFalse\nFalse\nTrue\n✅ Logged transaction TXN_custom_391 with 2 rule(s) fired.\n{'transaction_Date': '2025-01-06', 'transaction_id': 'TXN_custom_391', 'transactionAmount': '9206', 'is_fraud': True, 'rules_fired': [\"if (transaction['ip_address'] === '172.156.11.1' && (transaction['merchant_category'] === 'Online Services' || transaction['merchant_category'] === 'Retail')) { flagAsFraud(); }\", \"if (transaction['ip_address'] === '172.156.11.1' && (transaction['merchant_category'] === 'Online Services' || transaction['merchant_category'] === 'Entertainment' || transaction['merchant_category'] === 'Retail')) { flagAsFraud(); }\"]}\nTrue\n✅ Logged transaction TXN_custom_301 with 2 rule(s) fired.\n{'transaction_Date': '2024-12-10', 'transaction_id': 'TXN_custom_301', 'transactionAmount': '7968', 'is_fraud': True, 'rules_fired': [\"if (transaction['ip_address'] === '172.156.11.1' && (transaction['merchant_category'] === 'Online Services' || transaction['merchant_category'] === 'Retail')) { flagAsFraud(); }\", \"if (transaction['ip_address'] === '172.156.11.1' && (transaction['merchant_category'] === 'Online Services' || transaction['merchant_category'] === 'Entertainment' || transaction['merchant_category'] === 'Retail')) { flagAsFraud(); }\"]}\nTrue\n✅ Logged transaction TXN_custom_282 with 2 rule(s) fired.\n{'transaction_Date': '2025-02-01', 'transaction_id': 'TXN_custom_282', 'transactionAmount': '8549', 'is_fraud': True, 'rules_fired': [\"if (transaction['ip_address'] === '172.156.11.1' && (transaction['merchant_category'] === 'Online Services' || transaction['merchant_category'] === 'Retail')) { flagAsFraud(); }\", \"if (transaction['ip_address'] === '172.156.11.1' && (transaction['merchant_category'] === 'Online Services' || transaction['merchant_category'] === 'Entertainment' || transaction['merchant_category'] === 'Retail')) { flagAsFraud(); }\"]}\nTrue\n✅ Logged transaction TXN_custom_215 with 2 rule(s) fired.\n{'transaction_Date': '2024-06-02', 'transaction_id': 'TXN_custom_215', 'transactionAmount': '5370', 'is_fraud': True, 'rules_fired': [\"if (transaction['ip_address'] === '172.156.11.1' && (transaction['merchant_category'] === 'Online Services' || transaction['merchant_category'] === 'Retail')) { flagAsFraud(); }\", \"if (transaction['ip_address'] === '172.156.11.1' && (transaction['merchant_category'] === 'Online Services' || transaction['merchant_category'] === 'Entertainment' || transaction['merchant_category'] === 'Retail')) { flagAsFraud(); }\"]}\nFalse\nFalse\nTrue\n✅ Logged transaction TXN_custom_16 with 2 rule(s) fired.\n{'transaction_Date': '2024-07-04', 'transaction_id': 'TXN_custom_16', 'transactionAmount': '9528', 'is_fraud': True, 'rules_fired': [\"if (transaction['ip_address'] === '172.156.11.1' && (transaction['merchant_category'] === 'Online Services' || transaction['merchant_category'] === 'Retail')) { flagAsFraud(); }\", \"if (transaction['ip_address'] === '172.156.11.1' && (transaction['merchant_category'] === 'Online Services' || transaction['merchant_category'] === 'Entertainment' || transaction['merchant_category'] === 'Retail')) { flagAsFraud(); }\"]}\nTrue\n✅ Logged transaction TXN_custom_30 with 1 rule(s) fired.\n{'transaction_Date': '2025-03-26', 'transaction_id': 'TXN_custom_30', 'transactionAmount': '8233', 'is_fraud': True, 'rules_fired': [\"if (transaction['ip_address'] === '172.156.11.1' && (transaction['merchant_category'] === 'Online Services' || transaction['merchant_category'] === 'Entertainment' || transaction['merchant_category'] === 'Retail')) { flagAsFraud(); }\"]}\nTrue\n✅ Logged transaction TXN_custom_111 with 3 rule(s) fired.\n{'transaction_Date': '2025-04-04', 'transaction_id': 'TXN_custom_111', 'transactionAmount': '3233', 'is_fraud': True, 'rules_fired': [\"if (transaction['ip_address'] === '172.156.11.1' && (transaction['merchant_category'] === 'Online Services')) { flagAsFraud(); }\", \"if (transaction['ip_address'] === '172.156.11.1' && (transaction['merchant_category'] === 'Online Services' || transaction['merchant_category'] === 'Retail')) { flagAsFraud(); }\", \"if (transaction['ip_address'] === '172.156.11.1' && (transaction['merchant_category'] === 'Online Services' || transaction['merchant_category'] === 'Entertainment' || transaction['merchant_category'] === 'Retail')) { flagAsFraud(); }\"]}\nFalse\nFalse\nTrue\n✅ Logged transaction TXN_custom_99 with 2 rule(s) fired.\n{'transaction_Date': '2025-01-07', 'transaction_id': 'TXN_custom_99', 'transactionAmount': '2394', 'is_fraud': True, 'rules_fired': [\"if (transaction['ip_address'] === '172.156.11.1' && (transaction['merchant_category'] === 'Online Services' || transaction['merchant_category'] === 'Retail')) { flagAsFraud(); }\", \"if (transaction['ip_address'] === '172.156.11.1' && (transaction['merchant_category'] === 'Online Services' || transaction['merchant_category'] === 'Entertainment' || transaction['merchant_category'] === 'Retail')) { flagAsFraud(); }\"]}\nTrue\n✅ Logged transaction TXN_custom_409 with 1 rule(s) fired.\n{'transaction_Date': '2024-08-24', 'transaction_id': 'TXN_custom_409', 'transactionAmount': '1389', 'is_fraud': True, 'rules_fired': [\"if (transaction['ip_address'] === '172.156.11.1' && (transaction['merchant_category'] === 'Online Services' || transaction['merchant_category'] === 'Entertainment' || transaction['merchant_category'] === 'Retail')) { flagAsFraud(); }\"]}\nTrue\n✅ Logged transaction TXN_custom_83 with 2 rule(s) fired.\n{'transaction_Date': '2024-06-08', 'transaction_id': 'TXN_custom_83', 'transactionAmount': '7189', 'is_fraud': True, 'rules_fired': [\"if (transaction['ip_address'] === '172.156.11.1' && (transaction['merchant_category'] === 'Online Services' || transaction['merchant_category'] === 'Retail')) { flagAsFraud(); }\", \"if (transaction['ip_address'] === '172.156.11.1' && (transaction['merchant_category'] === 'Online Services' || transaction['merchant_category'] === 'Entertainment' || transaction['merchant_category'] === 'Retail')) { flagAsFraud(); }\"]}\nTrue\n✅ Logged transaction TXN_custom_101 with 2 rule(s) fired.\n{'transaction_Date': '2025-05-08', 'transaction_id': 'TXN_custom_101', 'transactionAmount': '7120', 'is_fraud': True, 'rules_fired': [\"if (transaction['ip_address'] === '172.156.11.1' && (transaction['merchant_category'] === 'Online Services' || transaction['merchant_category'] === 'Retail')) { flagAsFraud(); }\", \"if (transaction['ip_address'] === '172.156.11.1' && (transaction['merchant_category'] === 'Online Services' || transaction['merchant_category'] === 'Entertainment' || transaction['merchant_category'] === 'Retail')) { flagAsFraud(); }\"]}\nFalse\nTrue\n✅ Logged transaction TXN_custom_17 with 3 rule(s) fired.\n{'transaction_Date': '2024-08-30', 'transaction_id': 'TXN_custom_17', 'transactionAmount': '9753', 'is_fraud': True, 'rules_fired': [\"if (transaction['ip_address'] === '172.156.11.1' && (transaction['merchant_category'] === 'Online Services')) { flagAsFraud(); }\", \"if (transaction['ip_address'] === '172.156.11.1' && (transaction['merchant_category'] === 'Online Services' || transaction['merchant_category'] === 'Retail')) { flagAsFraud(); }\", \"if (transaction['ip_address'] === '172.156.11.1' && (transaction['merchant_category'] === 'Online Services' || transaction['merchant_category'] === 'Entertainment' || transaction['merchant_category'] === 'Retail')) { flagAsFraud(); }\"]}\nFalse\nTrue\n✅ Logged transaction TXN_custom_190 with 3 rule(s) fired.\n{'transaction_Date': '2024-11-19', 'transaction_id': 'TXN_custom_190', 'transactionAmount': '2314', 'is_fraud': True, 'rules_fired': [\"if (transaction['ip_address'] === '172.156.11.1' && (transaction['merchant_category'] === 'Online Services')) { flagAsFraud(); }\", \"if (transaction['ip_address'] === '172.156.11.1' && (transaction['merchant_category'] === 'Online Services' || transaction['merchant_category'] === 'Retail')) { flagAsFraud(); }\", \"if (transaction['ip_address'] === '172.156.11.1' && (transaction['merchant_category'] === 'Online Services' || transaction['merchant_category'] === 'Entertainment' || transaction['merchant_category'] === 'Retail')) { flagAsFraud(); }\"]}\nFalse\nFalse\nFalse\nTrue\n✅ Logged transaction TXN_custom_405 with 1 rule(s) fired.\n{'transaction_Date': '2025-03-01', 'transaction_id': 'TXN_custom_405', 'transactionAmount': '4321', 'is_fraud': True, 'rules_fired': [\"if (transaction['ip_address'] === '172.156.11.1' && (transaction['merchant_category'] === 'Online Services' || transaction['merchant_category'] === 'Entertainment' || transaction['merchant_category'] === 'Retail')) { flagAsFraud(); }\"]}\nFalse\nFalse\nFalse\nFalse\nTrue\n✅ Logged transaction TXN_custom_72 with 3 rule(s) fired.\n{'transaction_Date': '2025-04-11', 'transaction_id': 'TXN_custom_72', 'transactionAmount': '4146', 'is_fraud': True, 'rules_fired': [\"if (transaction['ip_address'] === '172.156.11.1' && (transaction['merchant_category'] === 'Online Services')) { flagAsFraud(); }\", \"if (transaction['ip_address'] === '172.156.11.1' && (transaction['merchant_category'] === 'Online Services' || transaction['merchant_category'] === 'Retail')) { flagAsFraud(); }\", \"if (transaction['ip_address'] === '172.156.11.1' && (transaction['merchant_category'] === 'Online Services' || transaction['merchant_category'] === 'Entertainment' || transaction['merchant_category'] === 'Retail')) { flagAsFraud(); }\"]}\nFalse\nFalse\nFalse\nFalse\nFalse\nTrue\n✅ Logged transaction TXN_custom_448 with 1 rule(s) fired.\n{'transaction_Date': '2025-05-11', 'transaction_id': 'TXN_custom_448', 'transactionAmount': '6999', 'is_fraud': True, 'rules_fired': [\"if (transaction['ip_address'] === '172.156.11.1' && (transaction['merchant_category'] === 'Online Services' || transaction['merchant_category'] === 'Entertainment' || transaction['merchant_category'] === 'Retail')) { flagAsFraud(); }\"]}\nFalse\nFalse\nFalse\nFalse\nTrue\n✅ Logged transaction TXN_custom_181 with 2 rule(s) fired.\n{'transaction_Date': '2025-01-13', 'transaction_id': 'TXN_custom_181', 'transactionAmount': '6301', 'is_fraud': True, 'rules_fired': [\"if (transaction['ip_address'] === '172.156.11.1' && (transaction['merchant_category'] === 'Online Services' || transaction['merchant_category'] === 'Retail')) { flagAsFraud(); }\", \"if (transaction['ip_address'] === '172.156.11.1' && (transaction['merchant_category'] === 'Online Services' || transaction['merchant_category'] === 'Entertainment' || transaction['merchant_category'] === 'Retail')) { flagAsFraud(); }\"]}\nTrue\n✅ Logged transaction TXN_custom_374 with 3 rule(s) fired.\n{'transaction_Date': '2024-08-13', 'transaction_id': 'TXN_custom_374', 'transactionAmount': '4996', 'is_fraud': True, 'rules_fired': [\"if (transaction['ip_address'] === '172.156.11.1' && (transaction['merchant_category'] === 'Online Services')) { flagAsFraud(); }\", \"if (transaction['ip_address'] === '172.156.11.1' && (transaction['merchant_category'] === 'Online Services' || transaction['merchant_category'] === 'Retail')) { flagAsFraud(); }\", \"if (transaction['ip_address'] === '172.156.11.1' && (transaction['merchant_category'] === 'Online Services' || transaction['merchant_category'] === 'Entertainment' || transaction['merchant_category'] === 'Retail')) { flagAsFraud(); }\"]}\nFalse\nTrue\n✅ Logged transaction TXN_custom_355 with 3 rule(s) fired.\n{'transaction_Date': '2024-10-05', 'transaction_id': 'TXN_custom_355', 'transactionAmount': '3274', 'is_fraud': True, 'rules_fired': [\"if (transaction['ip_address'] === '172.156.11.1' && (transaction['merchant_category'] === 'Online Services')) { flagAsFraud(); }\", \"if (transaction['ip_address'] === '172.156.11.1' && (transaction['merchant_category'] === 'Online Services' || transaction['merchant_category'] === 'Retail')) { flagAsFraud(); }\", \"if (transaction['ip_address'] === '172.156.11.1' && (transaction['merchant_category'] === 'Online Services' || transaction['merchant_category'] === 'Entertainment' || transaction['merchant_category'] === 'Retail')) { flagAsFraud(); }\"]}\nTrue\n✅ Logged transaction TXN_custom_274 with 1 rule(s) fired.\n{'transaction_Date': '2025-01-06', 'transaction_id': 'TXN_custom_274', 'transactionAmount': '8156', 'is_fraud': True, 'rules_fired': [\"if (transaction['ip_address'] === '172.156.11.1' && (transaction['merchant_category'] === 'Online Services' || transaction['merchant_category'] === 'Entertainment' || transaction['merchant_category'] === 'Retail')) { flagAsFraud(); }\"]}\n"
     ]
    }
   ],
   "source": [
    "with open(\"/dbfs//FileStore/tables/proactive/transactions_500.json\", \"r\") as f:\n",
    "    transactions = json.load(f)\n",
    "print(transactions)\n",
    "\n",
    "print(type(js_rules))\n",
    "\n",
    "def run_bulk_validation(transactions, js_rules, log_path=\"/dbfs//FileStore/tables/proactive/3log.jsonl\"):\n",
    "    from datetime import datetime\n",
    "\n",
    "    # Process transactions\n",
    "    for txn in transactions:\n",
    "        rules_fired, is_fraud_rec = execute_js_rules(txn, js_rules)\n",
    "        print(is_fraud_rec)\n",
    "       # is_fraud = txn.get(\"is_fraud\", False)  # Assuming this exists in your test JSON\n",
    "        if is_fraud_rec:\n",
    "            append_to_rule_log(txn, rules_fired, is_fraud_rec, log_path)\n",
    "\n",
    "run_bulk_validation(transactions, js_rules)"
   ]
  },
  {
   "cell_type": "code",
   "execution_count": 0,
   "metadata": {
    "application/vnd.databricks.v1+cell": {
     "cellMetadata": {
      "byteLimit": 2048000,
      "rowLimit": 10000
     },
     "inputWidgets": {},
     "nuid": "ff55a765-45fc-4a72-b471-1a77ec16a8cb",
     "showTitle": false,
     "tableResultSettingsMap": {},
     "title": ""
    }
   },
   "outputs": [],
   "source": [
    "import json\n",
    "\n",
    "def load_confirmed_fraud_ids_from_json(json_path):\n",
    "    with open(json_path, \"r\") as f:\n",
    "        data = json.load(f)\n",
    "        # print(set(item['transaction_id'] for item in data))\n",
    "        return set(item[\"transaction_id\"] for item in data)\n",
    "\n",
    "\n",
    "def evaluate_rule_validity_against_confirmed_json(log_file_path, confirmed_json_path):\n",
    "    confirmed_fraud_ids = load_confirmed_fraud_ids_from_json(confirmed_json_path)\n",
    "    model_fraud_ids=[]\n",
    "    with open(log_file_path, \"r\") as f:\n",
    "        for line in f:\n",
    "            model_fraud_ids.append(json.loads(line))\n",
    "  \n",
    "    total_confirmed = len(confirmed_fraud_ids)\n",
    "    total_model = len(model_fraud_ids)\n",
    "    print(total_model)\n",
    "\n",
    "    rule_true_hits = {}  # rule → count of true confirmed frauds it detected\n",
    "\n",
    "    with open(log_file_path, \"r\") as f:\n",
    "        for line in f:\n",
    "            record = json.loads(line)\n",
    "            # print(record)\n",
    "            transaction_id = record.get(\"transaction_id\")\n",
    "            is_fraud = record.get(\"is_fraud\", False)\n",
    "            rules = record.get(\"rules_fired\", [])\n",
    "\n",
    "            # Only count as true hit if:\n",
    "            # - is_fraud is True AND\n",
    "            # - transactionId is in confirmed fraud list\n",
    "            if not is_fraud or transaction_id not in confirmed_fraud_ids:\n",
    "                continue\n",
    "\n",
    "            for rule in rules:\n",
    "                rule_true_hits[rule] = rule_true_hits.get(rule, 0) + 1\n",
    "\n",
    "    # Compute rule accuracy\n",
    "    rule_accuracies = {}\n",
    "    for rule, count in rule_true_hits.items():\n",
    "        accuracy = count / total_confirmed if total_confirmed else 0\n",
    "        rule_accuracies[rule] = round(accuracy, 4)\n",
    "\n",
    "    return sorted(\n",
    "        rule_accuracies.items(), key=lambda x: -x[1]\n",
    "    )  # sorted by accuracy descending"
   ]
  },
  {
   "cell_type": "code",
   "execution_count": 0,
   "metadata": {
    "application/vnd.databricks.v1+cell": {
     "cellMetadata": {
      "byteLimit": 2048000,
      "rowLimit": 10000
     },
     "inputWidgets": {},
     "nuid": "06bf9fee-4b3a-4877-840b-f136fc3c08c7",
     "showTitle": false,
     "tableResultSettingsMap": {},
     "title": ""
    }
   },
   "outputs": [
    {
     "output_type": "stream",
     "name": "stdout",
     "output_type": "stream",
     "text": [
      "221\n2\n✅ Rule: if (transaction['ip_address'] === '172.156.11.1' && (transaction['merchant_category'] === 'Online Services' || transaction['merchant_category'] === 'Entertainment' || transaction['merchant_category'] === 'Retail')) { flagAsFraud(); }\n   Accuracy vs confirmed frauds: 1.0\n✅ Rule: if (transaction['ip_address'] === '172.156.11.1' && (transaction['merchant_category'] === 'Online Services' || transaction['merchant_category'] === 'Retail')) { flagAsFraud(); }\n   Accuracy vs confirmed frauds: 0.6854\n✅ Rule: if (transaction['ip_address'] === '172.156.11.1' && (transaction['merchant_category'] === 'Online Services')) { flagAsFraud(); }\n   Accuracy vs confirmed frauds: 0.3615\n"
     ]
    }
   ],
   "source": [
    "results = evaluate_rule_validity_against_confirmed_json(\n",
    "    log_file_path=\"/dbfs/FileStore/tables/proactive/3log.jsonl\",\n",
    "    confirmed_json_path=\"/dbfs/FileStore/tables/proactive/cf_transaction_200.json\"\n",
    ")\n",
    "\n",
    "print(len(results)-1)\n",
    "\n",
    "for rule, accuracy in results:\n",
    "    print(f\"✅ Rule: {rule}\\n   Accuracy vs confirmed frauds: {accuracy}\")\n"
   ]
  }
 ],
 "metadata": {
  "application/vnd.databricks.v1+notebook": {
   "computePreferences": null,
   "dashboards": [],
   "environmentMetadata": {
    "base_environment": "",
    "environment_version": "2"
   },
   "inputWidgetPreferences": null,
   "language": "python",
   "notebookMetadata": {
    "pythonIndentUnit": 4
   },
   "notebookName": "model",
   "widgets": {}
  },
  "language_info": {
   "name": "python"
  }
 },
 "nbformat": 4,
 "nbformat_minor": 0
}